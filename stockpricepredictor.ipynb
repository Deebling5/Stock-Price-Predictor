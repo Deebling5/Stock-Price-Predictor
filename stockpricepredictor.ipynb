{
 "cells": [
  {
   "cell_type": "code",
   "execution_count": 217,
   "metadata": {},
   "outputs": [],
   "source": [
    "import numpy as np\n",
    "import pandas as pd\n",
    "from pandas_datareader import data, wb\n",
    "from datetime import datetime \n",
    "from datetime import date\n",
    "from sklearn.linear_model import LinearRegression\n",
    "from sklearn.svm import SVR\n",
    "from sklearn.model_selection import train_test_split"
   ]
  },
  {
   "cell_type": "code",
   "execution_count": 218,
   "metadata": {},
   "outputs": [],
   "source": [
    "# importing plotly for interactive plots\n",
    "from plotly import __version__\n",
    "from plotly.offline import download_plotlyjs, init_notebook_mode, plot, iplot\n",
    "import plotly.graph_objects as go"
   ]
  },
  {
   "cell_type": "code",
   "execution_count": 219,
   "metadata": {},
   "outputs": [],
   "source": [
    "# importing the stock data from yahoo finance with the help of datareader\n",
    "today = datetime.today().strftime ('%Y-%m-%d') #getting todays date for end_date\n",
    "stock = {}\n",
    "symbol = \"RELIANCE.NS\"\n",
    "data_source = \"yahoo\"\n",
    "start_date = \"2020-05-01\"\n",
    "end_date = today\n",
    "stock = data.DataReader(symbol, data_source,start_date, end_date)\n",
    "stock = stock[['Open', 'High', 'Low', 'Close', 'Adj Close', 'Volume']]\n",
    "stock.name = symbol"
   ]
  },
  {
   "cell_type": "code",
   "execution_count": 220,
   "metadata": {},
   "outputs": [
    {
     "output_type": "execute_result",
     "data": {
      "text/plain": "                   Open         High          Low        Close    Adj Close  \\\nDate                                                                          \n2020-05-04  1426.479980  1451.239990  1404.140015  1421.719971  1416.401611   \n2020-05-05  1440.050049  1465.109985  1433.609985  1446.930054  1441.517456   \n2020-05-06  1450.250000  1471.010010  1431.930054  1447.030029  1441.616943   \n2020-05-07  1441.339966  1499.439941  1431.430054  1492.800049  1487.215820   \n2020-05-08  1530.489990  1565.060059  1522.670044  1547.130005  1541.342529   \n\n                Volume  \nDate                    \n2020-05-04  24670336.0  \n2020-05-05  20723079.0  \n2020-05-06  18685710.0  \n2020-05-07  23087436.0  \n2020-05-08  38887255.0  ",
      "text/html": "<div>\n<style scoped>\n    .dataframe tbody tr th:only-of-type {\n        vertical-align: middle;\n    }\n\n    .dataframe tbody tr th {\n        vertical-align: top;\n    }\n\n    .dataframe thead th {\n        text-align: right;\n    }\n</style>\n<table border=\"1\" class=\"dataframe\">\n  <thead>\n    <tr style=\"text-align: right;\">\n      <th></th>\n      <th>Open</th>\n      <th>High</th>\n      <th>Low</th>\n      <th>Close</th>\n      <th>Adj Close</th>\n      <th>Volume</th>\n    </tr>\n    <tr>\n      <th>Date</th>\n      <th></th>\n      <th></th>\n      <th></th>\n      <th></th>\n      <th></th>\n      <th></th>\n    </tr>\n  </thead>\n  <tbody>\n    <tr>\n      <th>2020-05-04</th>\n      <td>1426.479980</td>\n      <td>1451.239990</td>\n      <td>1404.140015</td>\n      <td>1421.719971</td>\n      <td>1416.401611</td>\n      <td>24670336.0</td>\n    </tr>\n    <tr>\n      <th>2020-05-05</th>\n      <td>1440.050049</td>\n      <td>1465.109985</td>\n      <td>1433.609985</td>\n      <td>1446.930054</td>\n      <td>1441.517456</td>\n      <td>20723079.0</td>\n    </tr>\n    <tr>\n      <th>2020-05-06</th>\n      <td>1450.250000</td>\n      <td>1471.010010</td>\n      <td>1431.930054</td>\n      <td>1447.030029</td>\n      <td>1441.616943</td>\n      <td>18685710.0</td>\n    </tr>\n    <tr>\n      <th>2020-05-07</th>\n      <td>1441.339966</td>\n      <td>1499.439941</td>\n      <td>1431.430054</td>\n      <td>1492.800049</td>\n      <td>1487.215820</td>\n      <td>23087436.0</td>\n    </tr>\n    <tr>\n      <th>2020-05-08</th>\n      <td>1530.489990</td>\n      <td>1565.060059</td>\n      <td>1522.670044</td>\n      <td>1547.130005</td>\n      <td>1541.342529</td>\n      <td>38887255.0</td>\n    </tr>\n  </tbody>\n</table>\n</div>"
     },
     "metadata": {},
     "execution_count": 220
    }
   ],
   "source": [
    "stock.head()"
   ]
  },
  {
   "cell_type": "code",
   "execution_count": 221,
   "metadata": {},
   "outputs": [
    {
     "output_type": "execute_result",
     "data": {
      "text/plain": "              Adj Close\nDate                   \n2020-05-04  1416.401611\n2020-05-05  1441.517456\n2020-05-06  1441.616943\n2020-05-07  1487.215820\n2020-05-08  1541.342529",
      "text/html": "<div>\n<style scoped>\n    .dataframe tbody tr th:only-of-type {\n        vertical-align: middle;\n    }\n\n    .dataframe tbody tr th {\n        vertical-align: top;\n    }\n\n    .dataframe thead th {\n        text-align: right;\n    }\n</style>\n<table border=\"1\" class=\"dataframe\">\n  <thead>\n    <tr style=\"text-align: right;\">\n      <th></th>\n      <th>Adj Close</th>\n    </tr>\n    <tr>\n      <th>Date</th>\n      <th></th>\n    </tr>\n  </thead>\n  <tbody>\n    <tr>\n      <th>2020-05-04</th>\n      <td>1416.401611</td>\n    </tr>\n    <tr>\n      <th>2020-05-05</th>\n      <td>1441.517456</td>\n    </tr>\n    <tr>\n      <th>2020-05-06</th>\n      <td>1441.616943</td>\n    </tr>\n    <tr>\n      <th>2020-05-07</th>\n      <td>1487.215820</td>\n    </tr>\n    <tr>\n      <th>2020-05-08</th>\n      <td>1541.342529</td>\n    </tr>\n  </tbody>\n</table>\n</div>"
     },
     "metadata": {},
     "execution_count": 221
    }
   ],
   "source": [
    "# as for prediction we will only need Adjusted Closing price so making a new dataframe with only Adj Close\n",
    "stock_df = stock[['Adj Close']]\n",
    "stock_df.head()"
   ]
  },
  {
   "cell_type": "code",
   "execution_count": 222,
   "metadata": {
    "tags": []
   },
   "outputs": [
    {
     "output_type": "execute_result",
     "data": {
      "text/plain": "              Adj Close   Prediction\nDate                                \n2020-06-15  1608.510376  1716.704102\n2020-06-16  1611.648438  1697.725342\n2020-06-17  1609.307251  1731.099976\n2020-06-18  1649.705688  1760.349976\n2020-06-19  1752.818481  1787.900024\n2020-06-22  1739.618042  1851.800049\n2020-06-23  1714.462524  1823.449951\n2020-06-24  1721.386475  1798.000000\n2020-06-25  1711.473755  1824.250000\n2020-06-26  1735.134888  1878.050049\n2020-06-29  1716.704102          NaN\n2020-06-30  1697.725342          NaN\n2020-07-01  1731.099976          NaN\n2020-07-02  1760.349976          NaN\n2020-07-03  1787.900024          NaN\n2020-07-06  1851.800049          NaN\n2020-07-07  1823.449951          NaN\n2020-07-08  1798.000000          NaN\n2020-07-09  1824.250000          NaN\n2020-07-10  1878.050049          NaN",
      "text/html": "<div>\n<style scoped>\n    .dataframe tbody tr th:only-of-type {\n        vertical-align: middle;\n    }\n\n    .dataframe tbody tr th {\n        vertical-align: top;\n    }\n\n    .dataframe thead th {\n        text-align: right;\n    }\n</style>\n<table border=\"1\" class=\"dataframe\">\n  <thead>\n    <tr style=\"text-align: right;\">\n      <th></th>\n      <th>Adj Close</th>\n      <th>Prediction</th>\n    </tr>\n    <tr>\n      <th>Date</th>\n      <th></th>\n      <th></th>\n    </tr>\n  </thead>\n  <tbody>\n    <tr>\n      <th>2020-06-15</th>\n      <td>1608.510376</td>\n      <td>1716.704102</td>\n    </tr>\n    <tr>\n      <th>2020-06-16</th>\n      <td>1611.648438</td>\n      <td>1697.725342</td>\n    </tr>\n    <tr>\n      <th>2020-06-17</th>\n      <td>1609.307251</td>\n      <td>1731.099976</td>\n    </tr>\n    <tr>\n      <th>2020-06-18</th>\n      <td>1649.705688</td>\n      <td>1760.349976</td>\n    </tr>\n    <tr>\n      <th>2020-06-19</th>\n      <td>1752.818481</td>\n      <td>1787.900024</td>\n    </tr>\n    <tr>\n      <th>2020-06-22</th>\n      <td>1739.618042</td>\n      <td>1851.800049</td>\n    </tr>\n    <tr>\n      <th>2020-06-23</th>\n      <td>1714.462524</td>\n      <td>1823.449951</td>\n    </tr>\n    <tr>\n      <th>2020-06-24</th>\n      <td>1721.386475</td>\n      <td>1798.000000</td>\n    </tr>\n    <tr>\n      <th>2020-06-25</th>\n      <td>1711.473755</td>\n      <td>1824.250000</td>\n    </tr>\n    <tr>\n      <th>2020-06-26</th>\n      <td>1735.134888</td>\n      <td>1878.050049</td>\n    </tr>\n    <tr>\n      <th>2020-06-29</th>\n      <td>1716.704102</td>\n      <td>NaN</td>\n    </tr>\n    <tr>\n      <th>2020-06-30</th>\n      <td>1697.725342</td>\n      <td>NaN</td>\n    </tr>\n    <tr>\n      <th>2020-07-01</th>\n      <td>1731.099976</td>\n      <td>NaN</td>\n    </tr>\n    <tr>\n      <th>2020-07-02</th>\n      <td>1760.349976</td>\n      <td>NaN</td>\n    </tr>\n    <tr>\n      <th>2020-07-03</th>\n      <td>1787.900024</td>\n      <td>NaN</td>\n    </tr>\n    <tr>\n      <th>2020-07-06</th>\n      <td>1851.800049</td>\n      <td>NaN</td>\n    </tr>\n    <tr>\n      <th>2020-07-07</th>\n      <td>1823.449951</td>\n      <td>NaN</td>\n    </tr>\n    <tr>\n      <th>2020-07-08</th>\n      <td>1798.000000</td>\n      <td>NaN</td>\n    </tr>\n    <tr>\n      <th>2020-07-09</th>\n      <td>1824.250000</td>\n      <td>NaN</td>\n    </tr>\n    <tr>\n      <th>2020-07-10</th>\n      <td>1878.050049</td>\n      <td>NaN</td>\n    </tr>\n  </tbody>\n</table>\n</div>"
     },
     "metadata": {},
     "execution_count": 222
    }
   ],
   "source": [
    "# creating a variable for how many days of stock price to predict\n",
    "no_of_pred = 10\n",
    "# now creating a column prediction which will be our target column\n",
    "# prediction column will have same values as Adj Close but shifting it no_of_pred units up so the there will be no_of_pred values at the bottom as NaN in it which we will predict\n",
    "stock_df['Prediction'] = stock_df[['Adj Close']].shift(-no_of_pred)\n",
    "stock_df.tail(20)"
   ]
  },
  {
   "cell_type": "code",
   "execution_count": 223,
   "metadata": {},
   "outputs": [
    {
     "output_type": "execute_result",
     "data": {
      "text/plain": "array([[1416.40161133],\n       [1441.51745605],\n       [1441.61694336],\n       [1487.21582031],\n       [1541.3425293 ],\n       [1556.14697266],\n       [1459.87841797],\n       [1490.85205078],\n       [1430.57836914],\n       [1453.94067383],\n       [1435.36047363],\n       [1403.62963867],\n       [1428.33679199],\n       [1435.85864258],\n       [1426.19494629],\n       [1418.72302246],\n       [1440.14257812],\n       [1466.74267578],\n       [1458.92199707],\n       [1514.66271973],\n       [1529.9552002 ],\n       [1535.88305664],\n       [1573.89038086],\n       [1575.78320312],\n       [1563.62878418],\n       [1531.39990234],\n       [1566.2689209 ],\n       [1531.94775391],\n       [1582.85668945],\n       [1608.51037598],\n       [1611.6484375 ],\n       [1609.30725098],\n       [1649.70568848],\n       [1752.81848145],\n       [1739.61804199],\n       [1714.46252441],\n       [1721.38647461],\n       [1711.47375488],\n       [1735.1348877 ]])"
     },
     "metadata": {},
     "execution_count": 223
    }
   ],
   "source": [
    "# like y=mx+c we need an x which is an indepandent variable and y which is an dependent variable\n",
    "# now we will create a independent dataset which we will use to train our model\n",
    "# for this dataset we will use Adj Close column only and convert it into numpy array and drop the last no_of_pred values\n",
    "# removing the last no_of_pred values(rows) to make the independent dataset(X) and dependent dataset(y) same length and train model on X to predict no_of_pred values which are removed\n",
    "X = np.array(stock_df.drop(['Prediction'],1))\n",
    "# removing last no_of_pred values\n",
    "X = X[:-no_of_pred]\n",
    "X"
   ]
  },
  {
   "cell_type": "code",
   "execution_count": 224,
   "metadata": {},
   "outputs": [
    {
     "output_type": "execute_result",
     "data": {
      "text/plain": "array([1435.36047363, 1403.62963867, 1428.33679199, 1435.85864258,\n       1426.19494629, 1418.72302246, 1440.14257812, 1466.74267578,\n       1458.92199707, 1514.66271973, 1529.9552002 , 1535.88305664,\n       1573.89038086, 1575.78320312, 1563.62878418, 1531.39990234,\n       1566.2689209 , 1531.94775391, 1582.85668945, 1608.51037598,\n       1611.6484375 , 1609.30725098, 1649.70568848, 1752.81848145,\n       1739.61804199, 1714.46252441, 1721.38647461, 1711.47375488,\n       1735.1348877 , 1716.70410156, 1697.7253418 , 1731.09997559,\n       1760.34997559, 1787.90002441, 1851.80004883, 1823.44995117,\n       1798.        , 1824.25      , 1878.05004883])"
     },
     "metadata": {},
     "execution_count": 224
    }
   ],
   "source": [
    "# now we will create a dependent dataset, this is the target data which will have the future price predictions\n",
    "# dependent dataset we will be created by Prediction column and converting it into numpy array \n",
    "# also removing the last no_of_pred values from predection column which NaNs which we will predict\n",
    "y = np.array(stock_df['Prediction'])\n",
    "y = y[:-no_of_pred]\n",
    "y"
   ]
  },
  {
   "cell_type": "code",
   "execution_count": 225,
   "metadata": {},
   "outputs": [],
   "source": [
    "# now splitting the data into training and test datasets where ratio is training 80% and testing 20%\n",
    "X_train, X_test, y_train, y_test = train_test_split(X, y, test_size=0.2)"
   ]
  },
  {
   "cell_type": "code",
   "execution_count": 226,
   "metadata": {},
   "outputs": [
    {
     "output_type": "execute_result",
     "data": {
      "text/plain": "LinearRegression()"
     },
     "metadata": {},
     "execution_count": 226
    }
   ],
   "source": [
    "# creating and training the model using Linear Regression\n",
    "lr = LinearRegression()\n",
    "lr.fit(X_train, y_train) "
   ]
  },
  {
   "cell_type": "code",
   "execution_count": 227,
   "metadata": {
    "tags": []
   },
   "outputs": [
    {
     "output_type": "stream",
     "name": "stdout",
     "text": "Linear Regression score:  0.6389355569363868\n"
    }
   ],
   "source": [
    "# now testing the model and getting the score known as coefficient of determination R^2\n",
    "lr_test = lr.score(X_test, y_test)\n",
    "print(\"Linear Regression score: \", lr_test)"
   ]
  },
  {
   "cell_type": "code",
   "execution_count": 228,
   "metadata": {},
   "outputs": [
    {
     "output_type": "execute_result",
     "data": {
      "text/plain": "array([[1716.70410156],\n       [1697.7253418 ],\n       [1731.09997559],\n       [1760.34997559],\n       [1787.90002441],\n       [1851.80004883],\n       [1823.44995117],\n       [1798.        ],\n       [1824.25      ],\n       [1878.05004883]])"
     },
     "metadata": {},
     "execution_count": 228
    }
   ],
   "source": [
    "# now we will create a numpy array and store the last no_of_pred values that we removed from Adj Close column\n",
    "x_prediction = np.array(stock_df.drop(['Prediction'],1))[-no_of_pred:]\n",
    "x_prediction"
   ]
  },
  {
   "cell_type": "code",
   "execution_count": 229,
   "metadata": {
    "tags": []
   },
   "outputs": [
    {
     "output_type": "execute_result",
     "data": {
      "text/plain": "array([1821.04807649, 1800.07573   , 1836.95613695, 1869.27864602,\n       1899.72263587, 1970.33491343, 1939.00683519, 1910.88354365,\n       1939.89092358, 1999.34229336])"
     },
     "metadata": {},
     "execution_count": 229
    }
   ],
   "source": [
    "# now predicting the stock prices for next no_of_pred days using linear regression\n",
    "lr_prediction = lr.predict(x_prediction)\n",
    "lr_prediction"
   ]
  },
  {
   "cell_type": "code",
   "execution_count": 230,
   "metadata": {},
   "outputs": [
    {
     "output_type": "execute_result",
     "data": {
      "text/plain": "49"
     },
     "metadata": {},
     "execution_count": 230
    }
   ],
   "source": [
    "rows = len(stock_df.axes[0])\n",
    "rows"
   ]
  },
  {
   "cell_type": "code",
   "execution_count": 231,
   "metadata": {
    "tags": []
   },
   "outputs": [
    {
     "output_type": "execute_result",
     "data": {
      "text/plain": "              Adj Close   Prediction\nDate                                \n2020-06-15  1608.510376  1716.704102\n2020-06-16  1611.648438  1697.725342\n2020-06-17  1609.307251  1731.099976\n2020-06-18  1649.705688  1760.349976\n2020-06-19  1752.818481  1787.900024\n2020-06-22  1739.618042  1851.800049\n2020-06-23  1714.462524  1823.449951\n2020-06-24  1721.386475  1798.000000\n2020-06-25  1711.473755  1824.250000\n2020-06-26  1735.134888  1878.050049\n2020-06-29  1716.704102  1821.048076\n2020-06-30  1697.725342  1800.075730\n2020-07-01  1731.099976  1836.956137\n2020-07-02  1760.349976  1869.278646\n2020-07-03  1787.900024  1899.722636\n2020-07-06  1851.800049  1970.334913\n2020-07-07  1823.449951  1939.006835\n2020-07-08  1798.000000  1910.883544\n2020-07-09  1824.250000  1939.890924\n2020-07-10  1878.050049  1999.342293",
      "text/html": "<div>\n<style scoped>\n    .dataframe tbody tr th:only-of-type {\n        vertical-align: middle;\n    }\n\n    .dataframe tbody tr th {\n        vertical-align: top;\n    }\n\n    .dataframe thead th {\n        text-align: right;\n    }\n</style>\n<table border=\"1\" class=\"dataframe\">\n  <thead>\n    <tr style=\"text-align: right;\">\n      <th></th>\n      <th>Adj Close</th>\n      <th>Prediction</th>\n    </tr>\n    <tr>\n      <th>Date</th>\n      <th></th>\n      <th></th>\n    </tr>\n  </thead>\n  <tbody>\n    <tr>\n      <th>2020-06-15</th>\n      <td>1608.510376</td>\n      <td>1716.704102</td>\n    </tr>\n    <tr>\n      <th>2020-06-16</th>\n      <td>1611.648438</td>\n      <td>1697.725342</td>\n    </tr>\n    <tr>\n      <th>2020-06-17</th>\n      <td>1609.307251</td>\n      <td>1731.099976</td>\n    </tr>\n    <tr>\n      <th>2020-06-18</th>\n      <td>1649.705688</td>\n      <td>1760.349976</td>\n    </tr>\n    <tr>\n      <th>2020-06-19</th>\n      <td>1752.818481</td>\n      <td>1787.900024</td>\n    </tr>\n    <tr>\n      <th>2020-06-22</th>\n      <td>1739.618042</td>\n      <td>1851.800049</td>\n    </tr>\n    <tr>\n      <th>2020-06-23</th>\n      <td>1714.462524</td>\n      <td>1823.449951</td>\n    </tr>\n    <tr>\n      <th>2020-06-24</th>\n      <td>1721.386475</td>\n      <td>1798.000000</td>\n    </tr>\n    <tr>\n      <th>2020-06-25</th>\n      <td>1711.473755</td>\n      <td>1824.250000</td>\n    </tr>\n    <tr>\n      <th>2020-06-26</th>\n      <td>1735.134888</td>\n      <td>1878.050049</td>\n    </tr>\n    <tr>\n      <th>2020-06-29</th>\n      <td>1716.704102</td>\n      <td>1821.048076</td>\n    </tr>\n    <tr>\n      <th>2020-06-30</th>\n      <td>1697.725342</td>\n      <td>1800.075730</td>\n    </tr>\n    <tr>\n      <th>2020-07-01</th>\n      <td>1731.099976</td>\n      <td>1836.956137</td>\n    </tr>\n    <tr>\n      <th>2020-07-02</th>\n      <td>1760.349976</td>\n      <td>1869.278646</td>\n    </tr>\n    <tr>\n      <th>2020-07-03</th>\n      <td>1787.900024</td>\n      <td>1899.722636</td>\n    </tr>\n    <tr>\n      <th>2020-07-06</th>\n      <td>1851.800049</td>\n      <td>1970.334913</td>\n    </tr>\n    <tr>\n      <th>2020-07-07</th>\n      <td>1823.449951</td>\n      <td>1939.006835</td>\n    </tr>\n    <tr>\n      <th>2020-07-08</th>\n      <td>1798.000000</td>\n      <td>1910.883544</td>\n    </tr>\n    <tr>\n      <th>2020-07-09</th>\n      <td>1824.250000</td>\n      <td>1939.890924</td>\n    </tr>\n    <tr>\n      <th>2020-07-10</th>\n      <td>1878.050049</td>\n      <td>1999.342293</td>\n    </tr>\n  </tbody>\n</table>\n</div>"
     },
     "metadata": {},
     "execution_count": 231
    }
   ],
   "source": [
    "# putting the predicted values in the Prediction column\n",
    "j=0\n",
    "count = no_of_pred\n",
    "for i in range(0,10):\n",
    "    stock_df.iloc[rows-count]['Prediction'] = lr_prediction[j]\n",
    "    j += 1\n",
    "    count -= 1\n",
    "stock_df.tail(20)"
   ]
  },
  {
   "cell_type": "code",
   "execution_count": 232,
   "metadata": {},
   "outputs": [],
   "source": [
    "#above dataframe is not coreect as the predictions of next no_of_pred is there but the dates corresponding to it are previous days to fix it will need to change shift date by the same number as no_of_pred\n",
    "stock_df_pred = stock_df[['Prediction']]\n",
    "stock_df_curr = stock_df[['Adj Close']]"
   ]
  },
  {
   "cell_type": "code",
   "execution_count": 233,
   "metadata": {},
   "outputs": [
    {
     "output_type": "display_data",
     "data": {
      "application/vnd.plotly.v1+json": {
       "config": {
        "plotlyServerURL": "https://plot.ly"
       },
       "data": [
        {
         "mode": "lines+markers",
         "name": "RELIANCE.NS",
         "showlegend": true,
         "type": "scatter",
         "x": [
          "2020-05-04T00:00:00",
          "2020-05-05T00:00:00",
          "2020-05-06T00:00:00",
          "2020-05-07T00:00:00",
          "2020-05-08T00:00:00",
          "2020-05-11T00:00:00",
          "2020-05-12T00:00:00",
          "2020-05-13T00:00:00",
          "2020-05-14T00:00:00",
          "2020-05-15T00:00:00",
          "2020-05-18T00:00:00",
          "2020-05-19T00:00:00",
          "2020-05-20T00:00:00",
          "2020-05-21T00:00:00",
          "2020-05-22T00:00:00",
          "2020-05-26T00:00:00",
          "2020-05-27T00:00:00",
          "2020-05-28T00:00:00",
          "2020-05-29T00:00:00",
          "2020-06-01T00:00:00",
          "2020-06-02T00:00:00",
          "2020-06-03T00:00:00",
          "2020-06-04T00:00:00",
          "2020-06-05T00:00:00",
          "2020-06-08T00:00:00",
          "2020-06-09T00:00:00",
          "2020-06-10T00:00:00",
          "2020-06-11T00:00:00",
          "2020-06-12T00:00:00",
          "2020-06-15T00:00:00",
          "2020-06-16T00:00:00",
          "2020-06-17T00:00:00",
          "2020-06-18T00:00:00",
          "2020-06-19T00:00:00",
          "2020-06-22T00:00:00",
          "2020-06-23T00:00:00",
          "2020-06-24T00:00:00",
          "2020-06-25T00:00:00",
          "2020-06-26T00:00:00",
          "2020-06-29T00:00:00",
          "2020-06-30T00:00:00",
          "2020-07-01T00:00:00",
          "2020-07-02T00:00:00",
          "2020-07-03T00:00:00",
          "2020-07-06T00:00:00",
          "2020-07-07T00:00:00",
          "2020-07-08T00:00:00",
          "2020-07-09T00:00:00",
          "2020-07-10T00:00:00"
         ],
         "y": [
          1416.401611328125,
          1441.5174560546875,
          1441.616943359375,
          1487.2158203125,
          1541.342529296875,
          1556.14697265625,
          1459.87841796875,
          1490.85205078125,
          1430.578369140625,
          1453.940673828125,
          1435.3604736328125,
          1403.629638671875,
          1428.3367919921875,
          1435.858642578125,
          1426.1949462890625,
          1418.7230224609375,
          1440.142578125,
          1466.74267578125,
          1458.9219970703125,
          1514.6627197265625,
          1529.9552001953125,
          1535.883056640625,
          1573.890380859375,
          1575.783203125,
          1563.6287841796875,
          1531.39990234375,
          1566.2689208984375,
          1531.94775390625,
          1582.856689453125,
          1608.5103759765625,
          1611.6484375,
          1609.3072509765625,
          1649.7056884765625,
          1752.8184814453125,
          1739.6180419921875,
          1714.4625244140625,
          1721.386474609375,
          1711.4737548828125,
          1735.1348876953125,
          1716.7041015625,
          1697.725341796875,
          1731.0999755859375,
          1760.3499755859375,
          1787.9000244140625,
          1851.800048828125,
          1823.449951171875,
          1798,
          1824.25,
          1878.050048828125
         ]
        }
       ],
       "layout": {
        "template": {
         "data": {
          "bar": [
           {
            "error_x": {
             "color": "#2a3f5f"
            },
            "error_y": {
             "color": "#2a3f5f"
            },
            "marker": {
             "line": {
              "color": "#E5ECF6",
              "width": 0.5
             }
            },
            "type": "bar"
           }
          ],
          "barpolar": [
           {
            "marker": {
             "line": {
              "color": "#E5ECF6",
              "width": 0.5
             }
            },
            "type": "barpolar"
           }
          ],
          "carpet": [
           {
            "aaxis": {
             "endlinecolor": "#2a3f5f",
             "gridcolor": "white",
             "linecolor": "white",
             "minorgridcolor": "white",
             "startlinecolor": "#2a3f5f"
            },
            "baxis": {
             "endlinecolor": "#2a3f5f",
             "gridcolor": "white",
             "linecolor": "white",
             "minorgridcolor": "white",
             "startlinecolor": "#2a3f5f"
            },
            "type": "carpet"
           }
          ],
          "choropleth": [
           {
            "colorbar": {
             "outlinewidth": 0,
             "ticks": ""
            },
            "type": "choropleth"
           }
          ],
          "contour": [
           {
            "colorbar": {
             "outlinewidth": 0,
             "ticks": ""
            },
            "colorscale": [
             [
              0,
              "#0d0887"
             ],
             [
              0.1111111111111111,
              "#46039f"
             ],
             [
              0.2222222222222222,
              "#7201a8"
             ],
             [
              0.3333333333333333,
              "#9c179e"
             ],
             [
              0.4444444444444444,
              "#bd3786"
             ],
             [
              0.5555555555555556,
              "#d8576b"
             ],
             [
              0.6666666666666666,
              "#ed7953"
             ],
             [
              0.7777777777777778,
              "#fb9f3a"
             ],
             [
              0.8888888888888888,
              "#fdca26"
             ],
             [
              1,
              "#f0f921"
             ]
            ],
            "type": "contour"
           }
          ],
          "contourcarpet": [
           {
            "colorbar": {
             "outlinewidth": 0,
             "ticks": ""
            },
            "type": "contourcarpet"
           }
          ],
          "heatmap": [
           {
            "colorbar": {
             "outlinewidth": 0,
             "ticks": ""
            },
            "colorscale": [
             [
              0,
              "#0d0887"
             ],
             [
              0.1111111111111111,
              "#46039f"
             ],
             [
              0.2222222222222222,
              "#7201a8"
             ],
             [
              0.3333333333333333,
              "#9c179e"
             ],
             [
              0.4444444444444444,
              "#bd3786"
             ],
             [
              0.5555555555555556,
              "#d8576b"
             ],
             [
              0.6666666666666666,
              "#ed7953"
             ],
             [
              0.7777777777777778,
              "#fb9f3a"
             ],
             [
              0.8888888888888888,
              "#fdca26"
             ],
             [
              1,
              "#f0f921"
             ]
            ],
            "type": "heatmap"
           }
          ],
          "heatmapgl": [
           {
            "colorbar": {
             "outlinewidth": 0,
             "ticks": ""
            },
            "colorscale": [
             [
              0,
              "#0d0887"
             ],
             [
              0.1111111111111111,
              "#46039f"
             ],
             [
              0.2222222222222222,
              "#7201a8"
             ],
             [
              0.3333333333333333,
              "#9c179e"
             ],
             [
              0.4444444444444444,
              "#bd3786"
             ],
             [
              0.5555555555555556,
              "#d8576b"
             ],
             [
              0.6666666666666666,
              "#ed7953"
             ],
             [
              0.7777777777777778,
              "#fb9f3a"
             ],
             [
              0.8888888888888888,
              "#fdca26"
             ],
             [
              1,
              "#f0f921"
             ]
            ],
            "type": "heatmapgl"
           }
          ],
          "histogram": [
           {
            "marker": {
             "colorbar": {
              "outlinewidth": 0,
              "ticks": ""
             }
            },
            "type": "histogram"
           }
          ],
          "histogram2d": [
           {
            "colorbar": {
             "outlinewidth": 0,
             "ticks": ""
            },
            "colorscale": [
             [
              0,
              "#0d0887"
             ],
             [
              0.1111111111111111,
              "#46039f"
             ],
             [
              0.2222222222222222,
              "#7201a8"
             ],
             [
              0.3333333333333333,
              "#9c179e"
             ],
             [
              0.4444444444444444,
              "#bd3786"
             ],
             [
              0.5555555555555556,
              "#d8576b"
             ],
             [
              0.6666666666666666,
              "#ed7953"
             ],
             [
              0.7777777777777778,
              "#fb9f3a"
             ],
             [
              0.8888888888888888,
              "#fdca26"
             ],
             [
              1,
              "#f0f921"
             ]
            ],
            "type": "histogram2d"
           }
          ],
          "histogram2dcontour": [
           {
            "colorbar": {
             "outlinewidth": 0,
             "ticks": ""
            },
            "colorscale": [
             [
              0,
              "#0d0887"
             ],
             [
              0.1111111111111111,
              "#46039f"
             ],
             [
              0.2222222222222222,
              "#7201a8"
             ],
             [
              0.3333333333333333,
              "#9c179e"
             ],
             [
              0.4444444444444444,
              "#bd3786"
             ],
             [
              0.5555555555555556,
              "#d8576b"
             ],
             [
              0.6666666666666666,
              "#ed7953"
             ],
             [
              0.7777777777777778,
              "#fb9f3a"
             ],
             [
              0.8888888888888888,
              "#fdca26"
             ],
             [
              1,
              "#f0f921"
             ]
            ],
            "type": "histogram2dcontour"
           }
          ],
          "mesh3d": [
           {
            "colorbar": {
             "outlinewidth": 0,
             "ticks": ""
            },
            "type": "mesh3d"
           }
          ],
          "parcoords": [
           {
            "line": {
             "colorbar": {
              "outlinewidth": 0,
              "ticks": ""
             }
            },
            "type": "parcoords"
           }
          ],
          "pie": [
           {
            "automargin": true,
            "type": "pie"
           }
          ],
          "scatter": [
           {
            "marker": {
             "colorbar": {
              "outlinewidth": 0,
              "ticks": ""
             }
            },
            "type": "scatter"
           }
          ],
          "scatter3d": [
           {
            "line": {
             "colorbar": {
              "outlinewidth": 0,
              "ticks": ""
             }
            },
            "marker": {
             "colorbar": {
              "outlinewidth": 0,
              "ticks": ""
             }
            },
            "type": "scatter3d"
           }
          ],
          "scattercarpet": [
           {
            "marker": {
             "colorbar": {
              "outlinewidth": 0,
              "ticks": ""
             }
            },
            "type": "scattercarpet"
           }
          ],
          "scattergeo": [
           {
            "marker": {
             "colorbar": {
              "outlinewidth": 0,
              "ticks": ""
             }
            },
            "type": "scattergeo"
           }
          ],
          "scattergl": [
           {
            "marker": {
             "colorbar": {
              "outlinewidth": 0,
              "ticks": ""
             }
            },
            "type": "scattergl"
           }
          ],
          "scattermapbox": [
           {
            "marker": {
             "colorbar": {
              "outlinewidth": 0,
              "ticks": ""
             }
            },
            "type": "scattermapbox"
           }
          ],
          "scatterpolar": [
           {
            "marker": {
             "colorbar": {
              "outlinewidth": 0,
              "ticks": ""
             }
            },
            "type": "scatterpolar"
           }
          ],
          "scatterpolargl": [
           {
            "marker": {
             "colorbar": {
              "outlinewidth": 0,
              "ticks": ""
             }
            },
            "type": "scatterpolargl"
           }
          ],
          "scatterternary": [
           {
            "marker": {
             "colorbar": {
              "outlinewidth": 0,
              "ticks": ""
             }
            },
            "type": "scatterternary"
           }
          ],
          "surface": [
           {
            "colorbar": {
             "outlinewidth": 0,
             "ticks": ""
            },
            "colorscale": [
             [
              0,
              "#0d0887"
             ],
             [
              0.1111111111111111,
              "#46039f"
             ],
             [
              0.2222222222222222,
              "#7201a8"
             ],
             [
              0.3333333333333333,
              "#9c179e"
             ],
             [
              0.4444444444444444,
              "#bd3786"
             ],
             [
              0.5555555555555556,
              "#d8576b"
             ],
             [
              0.6666666666666666,
              "#ed7953"
             ],
             [
              0.7777777777777778,
              "#fb9f3a"
             ],
             [
              0.8888888888888888,
              "#fdca26"
             ],
             [
              1,
              "#f0f921"
             ]
            ],
            "type": "surface"
           }
          ],
          "table": [
           {
            "cells": {
             "fill": {
              "color": "#EBF0F8"
             },
             "line": {
              "color": "white"
             }
            },
            "header": {
             "fill": {
              "color": "#C8D4E3"
             },
             "line": {
              "color": "white"
             }
            },
            "type": "table"
           }
          ]
         },
         "layout": {
          "annotationdefaults": {
           "arrowcolor": "#2a3f5f",
           "arrowhead": 0,
           "arrowwidth": 1
          },
          "coloraxis": {
           "colorbar": {
            "outlinewidth": 0,
            "ticks": ""
           }
          },
          "colorscale": {
           "diverging": [
            [
             0,
             "#8e0152"
            ],
            [
             0.1,
             "#c51b7d"
            ],
            [
             0.2,
             "#de77ae"
            ],
            [
             0.3,
             "#f1b6da"
            ],
            [
             0.4,
             "#fde0ef"
            ],
            [
             0.5,
             "#f7f7f7"
            ],
            [
             0.6,
             "#e6f5d0"
            ],
            [
             0.7,
             "#b8e186"
            ],
            [
             0.8,
             "#7fbc41"
            ],
            [
             0.9,
             "#4d9221"
            ],
            [
             1,
             "#276419"
            ]
           ],
           "sequential": [
            [
             0,
             "#0d0887"
            ],
            [
             0.1111111111111111,
             "#46039f"
            ],
            [
             0.2222222222222222,
             "#7201a8"
            ],
            [
             0.3333333333333333,
             "#9c179e"
            ],
            [
             0.4444444444444444,
             "#bd3786"
            ],
            [
             0.5555555555555556,
             "#d8576b"
            ],
            [
             0.6666666666666666,
             "#ed7953"
            ],
            [
             0.7777777777777778,
             "#fb9f3a"
            ],
            [
             0.8888888888888888,
             "#fdca26"
            ],
            [
             1,
             "#f0f921"
            ]
           ],
           "sequentialminus": [
            [
             0,
             "#0d0887"
            ],
            [
             0.1111111111111111,
             "#46039f"
            ],
            [
             0.2222222222222222,
             "#7201a8"
            ],
            [
             0.3333333333333333,
             "#9c179e"
            ],
            [
             0.4444444444444444,
             "#bd3786"
            ],
            [
             0.5555555555555556,
             "#d8576b"
            ],
            [
             0.6666666666666666,
             "#ed7953"
            ],
            [
             0.7777777777777778,
             "#fb9f3a"
            ],
            [
             0.8888888888888888,
             "#fdca26"
            ],
            [
             1,
             "#f0f921"
            ]
           ]
          },
          "colorway": [
           "#636efa",
           "#EF553B",
           "#00cc96",
           "#ab63fa",
           "#FFA15A",
           "#19d3f3",
           "#FF6692",
           "#B6E880",
           "#FF97FF",
           "#FECB52"
          ],
          "font": {
           "color": "#2a3f5f"
          },
          "geo": {
           "bgcolor": "white",
           "lakecolor": "white",
           "landcolor": "#E5ECF6",
           "showlakes": true,
           "showland": true,
           "subunitcolor": "white"
          },
          "hoverlabel": {
           "align": "left"
          },
          "hovermode": "closest",
          "mapbox": {
           "style": "light"
          },
          "paper_bgcolor": "white",
          "plot_bgcolor": "#E5ECF6",
          "polar": {
           "angularaxis": {
            "gridcolor": "white",
            "linecolor": "white",
            "ticks": ""
           },
           "bgcolor": "#E5ECF6",
           "radialaxis": {
            "gridcolor": "white",
            "linecolor": "white",
            "ticks": ""
           }
          },
          "scene": {
           "xaxis": {
            "backgroundcolor": "#E5ECF6",
            "gridcolor": "white",
            "gridwidth": 2,
            "linecolor": "white",
            "showbackground": true,
            "ticks": "",
            "zerolinecolor": "white"
           },
           "yaxis": {
            "backgroundcolor": "#E5ECF6",
            "gridcolor": "white",
            "gridwidth": 2,
            "linecolor": "white",
            "showbackground": true,
            "ticks": "",
            "zerolinecolor": "white"
           },
           "zaxis": {
            "backgroundcolor": "#E5ECF6",
            "gridcolor": "white",
            "gridwidth": 2,
            "linecolor": "white",
            "showbackground": true,
            "ticks": "",
            "zerolinecolor": "white"
           }
          },
          "shapedefaults": {
           "line": {
            "color": "#2a3f5f"
           }
          },
          "ternary": {
           "aaxis": {
            "gridcolor": "white",
            "linecolor": "white",
            "ticks": ""
           },
           "baxis": {
            "gridcolor": "white",
            "linecolor": "white",
            "ticks": ""
           },
           "bgcolor": "#E5ECF6",
           "caxis": {
            "gridcolor": "white",
            "linecolor": "white",
            "ticks": ""
           }
          },
          "title": {
           "x": 0.05
          },
          "xaxis": {
           "automargin": true,
           "gridcolor": "white",
           "linecolor": "white",
           "ticks": "",
           "title": {
            "standoff": 15
           },
           "zerolinecolor": "white",
           "zerolinewidth": 2
          },
          "yaxis": {
           "automargin": true,
           "gridcolor": "white",
           "linecolor": "white",
           "ticks": "",
           "title": {
            "standoff": 15
           },
           "zerolinecolor": "white",
           "zerolinewidth": 2
          }
         }
        }
       }
      }
     },
     "metadata": {}
    }
   ],
   "source": [
    "# plotting the stock prices currently available\n",
    "fig = go.Figure()\n",
    "fig.add_trace(go.Scatter(x=stock_df_curr.index, y=stock_df_curr['Adj Close'], mode='lines+markers', name = symbol, showlegend=True ))\n",
    "fig.show()"
   ]
  },
  {
   "cell_type": "code",
   "execution_count": 234,
   "metadata": {},
   "outputs": [
    {
     "output_type": "execute_result",
     "data": {
      "text/plain": "             Prediction\nDate                   \n2020-07-06  1970.334913\n2020-07-07  1939.006835\n2020-07-08  1910.883544\n2020-07-09  1939.890924\n2020-07-10  1999.342293",
      "text/html": "<div>\n<style scoped>\n    .dataframe tbody tr th:only-of-type {\n        vertical-align: middle;\n    }\n\n    .dataframe tbody tr th {\n        vertical-align: top;\n    }\n\n    .dataframe thead th {\n        text-align: right;\n    }\n</style>\n<table border=\"1\" class=\"dataframe\">\n  <thead>\n    <tr style=\"text-align: right;\">\n      <th></th>\n      <th>Prediction</th>\n    </tr>\n    <tr>\n      <th>Date</th>\n      <th></th>\n    </tr>\n  </thead>\n  <tbody>\n    <tr>\n      <th>2020-07-06</th>\n      <td>1970.334913</td>\n    </tr>\n    <tr>\n      <th>2020-07-07</th>\n      <td>1939.006835</td>\n    </tr>\n    <tr>\n      <th>2020-07-08</th>\n      <td>1910.883544</td>\n    </tr>\n    <tr>\n      <th>2020-07-09</th>\n      <td>1939.890924</td>\n    </tr>\n    <tr>\n      <th>2020-07-10</th>\n      <td>1999.342293</td>\n    </tr>\n  </tbody>\n</table>\n</div>"
     },
     "metadata": {},
     "execution_count": 234
    }
   ],
   "source": [
    "stock_df_pred.tail()"
   ]
  },
  {
   "cell_type": "code",
   "execution_count": 235,
   "metadata": {},
   "outputs": [
    {
     "output_type": "execute_result",
     "data": {
      "text/plain": "             Prediction\nDate                   \n2020-06-29  1716.704102\n2020-06-30  1697.725342\n2020-07-01  1731.099976\n2020-07-02  1760.349976\n2020-07-03  1787.900024\n2020-07-06  1851.800049\n2020-07-07  1823.449951\n2020-07-08  1798.000000\n2020-07-09  1824.250000\n2020-07-10  1878.050049\n2020-07-13  1821.048076\n2020-07-14  1800.075730\n2020-07-15  1836.956137\n2020-07-16  1869.278646\n2020-07-17  1899.722636\n2020-07-20  1970.334913\n2020-07-21  1939.006835\n2020-07-22  1910.883544\n2020-07-23  1939.890924\n2020-07-24  1999.342293",
      "text/html": "<div>\n<style scoped>\n    .dataframe tbody tr th:only-of-type {\n        vertical-align: middle;\n    }\n\n    .dataframe tbody tr th {\n        vertical-align: top;\n    }\n\n    .dataframe thead th {\n        text-align: right;\n    }\n</style>\n<table border=\"1\" class=\"dataframe\">\n  <thead>\n    <tr style=\"text-align: right;\">\n      <th></th>\n      <th>Prediction</th>\n    </tr>\n    <tr>\n      <th>Date</th>\n      <th></th>\n    </tr>\n  </thead>\n  <tbody>\n    <tr>\n      <th>2020-06-29</th>\n      <td>1716.704102</td>\n    </tr>\n    <tr>\n      <th>2020-06-30</th>\n      <td>1697.725342</td>\n    </tr>\n    <tr>\n      <th>2020-07-01</th>\n      <td>1731.099976</td>\n    </tr>\n    <tr>\n      <th>2020-07-02</th>\n      <td>1760.349976</td>\n    </tr>\n    <tr>\n      <th>2020-07-03</th>\n      <td>1787.900024</td>\n    </tr>\n    <tr>\n      <th>2020-07-06</th>\n      <td>1851.800049</td>\n    </tr>\n    <tr>\n      <th>2020-07-07</th>\n      <td>1823.449951</td>\n    </tr>\n    <tr>\n      <th>2020-07-08</th>\n      <td>1798.000000</td>\n    </tr>\n    <tr>\n      <th>2020-07-09</th>\n      <td>1824.250000</td>\n    </tr>\n    <tr>\n      <th>2020-07-10</th>\n      <td>1878.050049</td>\n    </tr>\n    <tr>\n      <th>2020-07-13</th>\n      <td>1821.048076</td>\n    </tr>\n    <tr>\n      <th>2020-07-14</th>\n      <td>1800.075730</td>\n    </tr>\n    <tr>\n      <th>2020-07-15</th>\n      <td>1836.956137</td>\n    </tr>\n    <tr>\n      <th>2020-07-16</th>\n      <td>1869.278646</td>\n    </tr>\n    <tr>\n      <th>2020-07-17</th>\n      <td>1899.722636</td>\n    </tr>\n    <tr>\n      <th>2020-07-20</th>\n      <td>1970.334913</td>\n    </tr>\n    <tr>\n      <th>2020-07-21</th>\n      <td>1939.006835</td>\n    </tr>\n    <tr>\n      <th>2020-07-22</th>\n      <td>1910.883544</td>\n    </tr>\n    <tr>\n      <th>2020-07-23</th>\n      <td>1939.890924</td>\n    </tr>\n    <tr>\n      <th>2020-07-24</th>\n      <td>1999.342293</td>\n    </tr>\n  </tbody>\n</table>\n</div>"
     },
     "metadata": {},
     "execution_count": 235
    }
   ],
   "source": [
    "stock_df_pred.index = stock_df_pred.index.shift(no_of_pred+4, freq='D')\n",
    "stock_df_pred.tail(20)"
   ]
  },
  {
   "cell_type": "code",
   "execution_count": 236,
   "metadata": {},
   "outputs": [
    {
     "output_type": "display_data",
     "data": {
      "application/vnd.plotly.v1+json": {
       "config": {
        "plotlyServerURL": "https://plot.ly"
       },
       "data": [
        {
         "mode": "lines+markers",
         "name": "RELIANCE.NS",
         "showlegend": true,
         "type": "scatter",
         "x": [
          "2020-05-18T00:00:00",
          "2020-05-19T00:00:00",
          "2020-05-20T00:00:00",
          "2020-05-21T00:00:00",
          "2020-05-22T00:00:00",
          "2020-05-25T00:00:00",
          "2020-05-26T00:00:00",
          "2020-05-27T00:00:00",
          "2020-05-28T00:00:00",
          "2020-05-29T00:00:00",
          "2020-06-01T00:00:00",
          "2020-06-02T00:00:00",
          "2020-06-03T00:00:00",
          "2020-06-04T00:00:00",
          "2020-06-05T00:00:00",
          "2020-06-09T00:00:00",
          "2020-06-10T00:00:00",
          "2020-06-11T00:00:00",
          "2020-06-12T00:00:00",
          "2020-06-15T00:00:00",
          "2020-06-16T00:00:00",
          "2020-06-17T00:00:00",
          "2020-06-18T00:00:00",
          "2020-06-19T00:00:00",
          "2020-06-22T00:00:00",
          "2020-06-23T00:00:00",
          "2020-06-24T00:00:00",
          "2020-06-25T00:00:00",
          "2020-06-26T00:00:00",
          "2020-06-29T00:00:00",
          "2020-06-30T00:00:00",
          "2020-07-01T00:00:00",
          "2020-07-02T00:00:00",
          "2020-07-03T00:00:00",
          "2020-07-06T00:00:00",
          "2020-07-07T00:00:00",
          "2020-07-08T00:00:00",
          "2020-07-09T00:00:00",
          "2020-07-10T00:00:00",
          "2020-07-13T00:00:00",
          "2020-07-14T00:00:00",
          "2020-07-15T00:00:00",
          "2020-07-16T00:00:00",
          "2020-07-17T00:00:00",
          "2020-07-20T00:00:00",
          "2020-07-21T00:00:00",
          "2020-07-22T00:00:00",
          "2020-07-23T00:00:00",
          "2020-07-24T00:00:00"
         ],
         "y": [
          1435.3604736328125,
          1403.629638671875,
          1428.3367919921875,
          1435.858642578125,
          1426.1949462890625,
          1418.7230224609375,
          1440.142578125,
          1466.74267578125,
          1458.9219970703125,
          1514.6627197265625,
          1529.9552001953125,
          1535.883056640625,
          1573.890380859375,
          1575.783203125,
          1563.6287841796875,
          1531.39990234375,
          1566.2689208984375,
          1531.94775390625,
          1582.856689453125,
          1608.5103759765625,
          1611.6484375,
          1609.3072509765625,
          1649.7056884765625,
          1752.8184814453125,
          1739.6180419921875,
          1714.4625244140625,
          1721.386474609375,
          1711.4737548828125,
          1735.1348876953125,
          1716.7041015625,
          1697.725341796875,
          1731.0999755859375,
          1760.3499755859375,
          1787.9000244140625,
          1851.800048828125,
          1823.449951171875,
          1798,
          1824.25,
          1878.050048828125,
          1821.0480764856502,
          1800.0757300027913,
          1836.9561369528026,
          1869.278646020793,
          1899.7226358693622,
          1970.3349134272544,
          1939.0068351854577,
          1910.8835436458733,
          1939.8909235786853,
          1999.3422933600666
         ]
        }
       ],
       "layout": {
        "shapes": [
         {
          "line": {
           "color": "red"
          },
          "type": "line",
          "x0": "2020-07-11",
          "x1": "2020-07-11",
          "xref": "x",
          "y0": 0,
          "y1": 1,
          "yref": "paper"
         }
        ],
        "template": {
         "data": {
          "bar": [
           {
            "error_x": {
             "color": "#2a3f5f"
            },
            "error_y": {
             "color": "#2a3f5f"
            },
            "marker": {
             "line": {
              "color": "#E5ECF6",
              "width": 0.5
             }
            },
            "type": "bar"
           }
          ],
          "barpolar": [
           {
            "marker": {
             "line": {
              "color": "#E5ECF6",
              "width": 0.5
             }
            },
            "type": "barpolar"
           }
          ],
          "carpet": [
           {
            "aaxis": {
             "endlinecolor": "#2a3f5f",
             "gridcolor": "white",
             "linecolor": "white",
             "minorgridcolor": "white",
             "startlinecolor": "#2a3f5f"
            },
            "baxis": {
             "endlinecolor": "#2a3f5f",
             "gridcolor": "white",
             "linecolor": "white",
             "minorgridcolor": "white",
             "startlinecolor": "#2a3f5f"
            },
            "type": "carpet"
           }
          ],
          "choropleth": [
           {
            "colorbar": {
             "outlinewidth": 0,
             "ticks": ""
            },
            "type": "choropleth"
           }
          ],
          "contour": [
           {
            "colorbar": {
             "outlinewidth": 0,
             "ticks": ""
            },
            "colorscale": [
             [
              0,
              "#0d0887"
             ],
             [
              0.1111111111111111,
              "#46039f"
             ],
             [
              0.2222222222222222,
              "#7201a8"
             ],
             [
              0.3333333333333333,
              "#9c179e"
             ],
             [
              0.4444444444444444,
              "#bd3786"
             ],
             [
              0.5555555555555556,
              "#d8576b"
             ],
             [
              0.6666666666666666,
              "#ed7953"
             ],
             [
              0.7777777777777778,
              "#fb9f3a"
             ],
             [
              0.8888888888888888,
              "#fdca26"
             ],
             [
              1,
              "#f0f921"
             ]
            ],
            "type": "contour"
           }
          ],
          "contourcarpet": [
           {
            "colorbar": {
             "outlinewidth": 0,
             "ticks": ""
            },
            "type": "contourcarpet"
           }
          ],
          "heatmap": [
           {
            "colorbar": {
             "outlinewidth": 0,
             "ticks": ""
            },
            "colorscale": [
             [
              0,
              "#0d0887"
             ],
             [
              0.1111111111111111,
              "#46039f"
             ],
             [
              0.2222222222222222,
              "#7201a8"
             ],
             [
              0.3333333333333333,
              "#9c179e"
             ],
             [
              0.4444444444444444,
              "#bd3786"
             ],
             [
              0.5555555555555556,
              "#d8576b"
             ],
             [
              0.6666666666666666,
              "#ed7953"
             ],
             [
              0.7777777777777778,
              "#fb9f3a"
             ],
             [
              0.8888888888888888,
              "#fdca26"
             ],
             [
              1,
              "#f0f921"
             ]
            ],
            "type": "heatmap"
           }
          ],
          "heatmapgl": [
           {
            "colorbar": {
             "outlinewidth": 0,
             "ticks": ""
            },
            "colorscale": [
             [
              0,
              "#0d0887"
             ],
             [
              0.1111111111111111,
              "#46039f"
             ],
             [
              0.2222222222222222,
              "#7201a8"
             ],
             [
              0.3333333333333333,
              "#9c179e"
             ],
             [
              0.4444444444444444,
              "#bd3786"
             ],
             [
              0.5555555555555556,
              "#d8576b"
             ],
             [
              0.6666666666666666,
              "#ed7953"
             ],
             [
              0.7777777777777778,
              "#fb9f3a"
             ],
             [
              0.8888888888888888,
              "#fdca26"
             ],
             [
              1,
              "#f0f921"
             ]
            ],
            "type": "heatmapgl"
           }
          ],
          "histogram": [
           {
            "marker": {
             "colorbar": {
              "outlinewidth": 0,
              "ticks": ""
             }
            },
            "type": "histogram"
           }
          ],
          "histogram2d": [
           {
            "colorbar": {
             "outlinewidth": 0,
             "ticks": ""
            },
            "colorscale": [
             [
              0,
              "#0d0887"
             ],
             [
              0.1111111111111111,
              "#46039f"
             ],
             [
              0.2222222222222222,
              "#7201a8"
             ],
             [
              0.3333333333333333,
              "#9c179e"
             ],
             [
              0.4444444444444444,
              "#bd3786"
             ],
             [
              0.5555555555555556,
              "#d8576b"
             ],
             [
              0.6666666666666666,
              "#ed7953"
             ],
             [
              0.7777777777777778,
              "#fb9f3a"
             ],
             [
              0.8888888888888888,
              "#fdca26"
             ],
             [
              1,
              "#f0f921"
             ]
            ],
            "type": "histogram2d"
           }
          ],
          "histogram2dcontour": [
           {
            "colorbar": {
             "outlinewidth": 0,
             "ticks": ""
            },
            "colorscale": [
             [
              0,
              "#0d0887"
             ],
             [
              0.1111111111111111,
              "#46039f"
             ],
             [
              0.2222222222222222,
              "#7201a8"
             ],
             [
              0.3333333333333333,
              "#9c179e"
             ],
             [
              0.4444444444444444,
              "#bd3786"
             ],
             [
              0.5555555555555556,
              "#d8576b"
             ],
             [
              0.6666666666666666,
              "#ed7953"
             ],
             [
              0.7777777777777778,
              "#fb9f3a"
             ],
             [
              0.8888888888888888,
              "#fdca26"
             ],
             [
              1,
              "#f0f921"
             ]
            ],
            "type": "histogram2dcontour"
           }
          ],
          "mesh3d": [
           {
            "colorbar": {
             "outlinewidth": 0,
             "ticks": ""
            },
            "type": "mesh3d"
           }
          ],
          "parcoords": [
           {
            "line": {
             "colorbar": {
              "outlinewidth": 0,
              "ticks": ""
             }
            },
            "type": "parcoords"
           }
          ],
          "pie": [
           {
            "automargin": true,
            "type": "pie"
           }
          ],
          "scatter": [
           {
            "marker": {
             "colorbar": {
              "outlinewidth": 0,
              "ticks": ""
             }
            },
            "type": "scatter"
           }
          ],
          "scatter3d": [
           {
            "line": {
             "colorbar": {
              "outlinewidth": 0,
              "ticks": ""
             }
            },
            "marker": {
             "colorbar": {
              "outlinewidth": 0,
              "ticks": ""
             }
            },
            "type": "scatter3d"
           }
          ],
          "scattercarpet": [
           {
            "marker": {
             "colorbar": {
              "outlinewidth": 0,
              "ticks": ""
             }
            },
            "type": "scattercarpet"
           }
          ],
          "scattergeo": [
           {
            "marker": {
             "colorbar": {
              "outlinewidth": 0,
              "ticks": ""
             }
            },
            "type": "scattergeo"
           }
          ],
          "scattergl": [
           {
            "marker": {
             "colorbar": {
              "outlinewidth": 0,
              "ticks": ""
             }
            },
            "type": "scattergl"
           }
          ],
          "scattermapbox": [
           {
            "marker": {
             "colorbar": {
              "outlinewidth": 0,
              "ticks": ""
             }
            },
            "type": "scattermapbox"
           }
          ],
          "scatterpolar": [
           {
            "marker": {
             "colorbar": {
              "outlinewidth": 0,
              "ticks": ""
             }
            },
            "type": "scatterpolar"
           }
          ],
          "scatterpolargl": [
           {
            "marker": {
             "colorbar": {
              "outlinewidth": 0,
              "ticks": ""
             }
            },
            "type": "scatterpolargl"
           }
          ],
          "scatterternary": [
           {
            "marker": {
             "colorbar": {
              "outlinewidth": 0,
              "ticks": ""
             }
            },
            "type": "scatterternary"
           }
          ],
          "surface": [
           {
            "colorbar": {
             "outlinewidth": 0,
             "ticks": ""
            },
            "colorscale": [
             [
              0,
              "#0d0887"
             ],
             [
              0.1111111111111111,
              "#46039f"
             ],
             [
              0.2222222222222222,
              "#7201a8"
             ],
             [
              0.3333333333333333,
              "#9c179e"
             ],
             [
              0.4444444444444444,
              "#bd3786"
             ],
             [
              0.5555555555555556,
              "#d8576b"
             ],
             [
              0.6666666666666666,
              "#ed7953"
             ],
             [
              0.7777777777777778,
              "#fb9f3a"
             ],
             [
              0.8888888888888888,
              "#fdca26"
             ],
             [
              1,
              "#f0f921"
             ]
            ],
            "type": "surface"
           }
          ],
          "table": [
           {
            "cells": {
             "fill": {
              "color": "#EBF0F8"
             },
             "line": {
              "color": "white"
             }
            },
            "header": {
             "fill": {
              "color": "#C8D4E3"
             },
             "line": {
              "color": "white"
             }
            },
            "type": "table"
           }
          ]
         },
         "layout": {
          "annotationdefaults": {
           "arrowcolor": "#2a3f5f",
           "arrowhead": 0,
           "arrowwidth": 1
          },
          "coloraxis": {
           "colorbar": {
            "outlinewidth": 0,
            "ticks": ""
           }
          },
          "colorscale": {
           "diverging": [
            [
             0,
             "#8e0152"
            ],
            [
             0.1,
             "#c51b7d"
            ],
            [
             0.2,
             "#de77ae"
            ],
            [
             0.3,
             "#f1b6da"
            ],
            [
             0.4,
             "#fde0ef"
            ],
            [
             0.5,
             "#f7f7f7"
            ],
            [
             0.6,
             "#e6f5d0"
            ],
            [
             0.7,
             "#b8e186"
            ],
            [
             0.8,
             "#7fbc41"
            ],
            [
             0.9,
             "#4d9221"
            ],
            [
             1,
             "#276419"
            ]
           ],
           "sequential": [
            [
             0,
             "#0d0887"
            ],
            [
             0.1111111111111111,
             "#46039f"
            ],
            [
             0.2222222222222222,
             "#7201a8"
            ],
            [
             0.3333333333333333,
             "#9c179e"
            ],
            [
             0.4444444444444444,
             "#bd3786"
            ],
            [
             0.5555555555555556,
             "#d8576b"
            ],
            [
             0.6666666666666666,
             "#ed7953"
            ],
            [
             0.7777777777777778,
             "#fb9f3a"
            ],
            [
             0.8888888888888888,
             "#fdca26"
            ],
            [
             1,
             "#f0f921"
            ]
           ],
           "sequentialminus": [
            [
             0,
             "#0d0887"
            ],
            [
             0.1111111111111111,
             "#46039f"
            ],
            [
             0.2222222222222222,
             "#7201a8"
            ],
            [
             0.3333333333333333,
             "#9c179e"
            ],
            [
             0.4444444444444444,
             "#bd3786"
            ],
            [
             0.5555555555555556,
             "#d8576b"
            ],
            [
             0.6666666666666666,
             "#ed7953"
            ],
            [
             0.7777777777777778,
             "#fb9f3a"
            ],
            [
             0.8888888888888888,
             "#fdca26"
            ],
            [
             1,
             "#f0f921"
            ]
           ]
          },
          "colorway": [
           "#636efa",
           "#EF553B",
           "#00cc96",
           "#ab63fa",
           "#FFA15A",
           "#19d3f3",
           "#FF6692",
           "#B6E880",
           "#FF97FF",
           "#FECB52"
          ],
          "font": {
           "color": "#2a3f5f"
          },
          "geo": {
           "bgcolor": "white",
           "lakecolor": "white",
           "landcolor": "#E5ECF6",
           "showlakes": true,
           "showland": true,
           "subunitcolor": "white"
          },
          "hoverlabel": {
           "align": "left"
          },
          "hovermode": "closest",
          "mapbox": {
           "style": "light"
          },
          "paper_bgcolor": "white",
          "plot_bgcolor": "#E5ECF6",
          "polar": {
           "angularaxis": {
            "gridcolor": "white",
            "linecolor": "white",
            "ticks": ""
           },
           "bgcolor": "#E5ECF6",
           "radialaxis": {
            "gridcolor": "white",
            "linecolor": "white",
            "ticks": ""
           }
          },
          "scene": {
           "xaxis": {
            "backgroundcolor": "#E5ECF6",
            "gridcolor": "white",
            "gridwidth": 2,
            "linecolor": "white",
            "showbackground": true,
            "ticks": "",
            "zerolinecolor": "white"
           },
           "yaxis": {
            "backgroundcolor": "#E5ECF6",
            "gridcolor": "white",
            "gridwidth": 2,
            "linecolor": "white",
            "showbackground": true,
            "ticks": "",
            "zerolinecolor": "white"
           },
           "zaxis": {
            "backgroundcolor": "#E5ECF6",
            "gridcolor": "white",
            "gridwidth": 2,
            "linecolor": "white",
            "showbackground": true,
            "ticks": "",
            "zerolinecolor": "white"
           }
          },
          "shapedefaults": {
           "line": {
            "color": "#2a3f5f"
           }
          },
          "ternary": {
           "aaxis": {
            "gridcolor": "white",
            "linecolor": "white",
            "ticks": ""
           },
           "baxis": {
            "gridcolor": "white",
            "linecolor": "white",
            "ticks": ""
           },
           "bgcolor": "#E5ECF6",
           "caxis": {
            "gridcolor": "white",
            "linecolor": "white",
            "ticks": ""
           }
          },
          "title": {
           "x": 0.05
          },
          "xaxis": {
           "automargin": true,
           "gridcolor": "white",
           "linecolor": "white",
           "ticks": "",
           "title": {
            "standoff": 15
           },
           "zerolinecolor": "white",
           "zerolinewidth": 2
          },
          "yaxis": {
           "automargin": true,
           "gridcolor": "white",
           "linecolor": "white",
           "ticks": "",
           "title": {
            "standoff": 15
           },
           "zerolinecolor": "white",
           "zerolinewidth": 2
          }
         }
        }
       }
      }
     },
     "metadata": {}
    }
   ],
   "source": [
    "# plotting the predicted stock prices \n",
    "# the stock prices after the line are the predicted stock prices\n",
    "fig = go.Figure()\n",
    "fig.add_trace(go.Scatter(x=stock_df_pred.index, y=stock_df_pred['Prediction'], mode='lines+markers', name = symbol, showlegend=True))\n",
    "fig.update_layout(shapes=[\n",
    "    dict(\n",
    "        type = 'line',\n",
    "        yref = 'paper', y0=0, y1=1,\n",
    "        xref = 'x', x0=end_date, x1=end_date,\n",
    "        line=dict(color = 'red')\n",
    "    ),\n",
    "])\n",
    "fig.show()"
   ]
  },
  {
   "cell_type": "code",
   "execution_count": null,
   "metadata": {},
   "outputs": [],
   "source": []
  }
 ],
 "metadata": {
  "language_info": {
   "codemirror_mode": {
    "name": "ipython",
    "version": 3
   },
   "file_extension": ".py",
   "mimetype": "text/x-python",
   "name": "python",
   "nbconvert_exporter": "python",
   "pygments_lexer": "ipython3",
   "version": 3
  },
  "orig_nbformat": 2,
  "kernelspec": {
   "name": "python_defaultSpec_1594470691867",
   "display_name": "Python 3.7.7 64-bit ('tf': conda)"
  }
 },
 "nbformat": 4,
 "nbformat_minor": 2
}